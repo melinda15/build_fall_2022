{
 "cells": [
  {
   "cell_type": "code",
   "execution_count": null,
   "id": "72948fb7",
   "metadata": {},
   "outputs": [],
   "source": [
    "import pandas\n",
    "\n",
    "pandas.options.display.max_columns = None\n",
    "pandas.options.display.max_rows = None\n",
    "\n",
    "csv_data = pandas.read_csv(\"heart_failure_clinical_records_dataset.csv\")\n",
    "\n",
    "csv_data"
   ]
  },
  {
   "cell_type": "code",
   "execution_count": null,
   "id": "bacd7569",
   "metadata": {},
   "outputs": [],
   "source": [
    "#Are males or females more likely to die from heart failure?"
   ]
  },
  {
   "cell_type": "code",
   "execution_count": null,
   "id": "49471961",
   "metadata": {},
   "outputs": [],
   "source": [
    "sex = None\n",
    "male_deaths = csv_data[(csv_data[\"DEATH_EVENT\"] == 1) & (csv_data[\"sex\"] == 0)][\"DEATH_EVENT\"].sum()\n",
    "female_deaths = csv_data[(csv_data[\"DEATH_EVENT\"] == 1) & (csv_data[\"sex\"] == 1)][\"DEATH_EVENT\"].sum()\n",
    "\n",
    "if male_deaths > female_deaths:\n",
    "    sex = \"Male\"\n",
    "else:\n",
    "    sex = \"Female\"\n",
    "    \n",
    "sex"
   ]
  },
  {
   "cell_type": "code",
   "execution_count": null,
   "id": "390b6d2b",
   "metadata": {},
   "outputs": [],
   "source": [
    "#Based on the code above and the dataset I chose, females are more likely to die from a heart failure than males."
   ]
  }
 ],
 "metadata": {
  "kernelspec": {
   "display_name": "Python 3 (ipykernel)",
   "language": "python",
   "name": "python3"
  },
  "language_info": {
   "codemirror_mode": {
    "name": "ipython",
    "version": 3
   },
   "file_extension": ".py",
   "mimetype": "text/x-python",
   "name": "python",
   "nbconvert_exporter": "python",
   "pygments_lexer": "ipython3",
   "version": "3.10.7"
  },
  "vscode": {
   "interpreter": {
    "hash": "e1a1e726527094bcd9ab6004f9869c99ff7b44ef5acf3aca01ec499374ca7e79"
   }
  }
 },
 "nbformat": 4,
 "nbformat_minor": 5
}
