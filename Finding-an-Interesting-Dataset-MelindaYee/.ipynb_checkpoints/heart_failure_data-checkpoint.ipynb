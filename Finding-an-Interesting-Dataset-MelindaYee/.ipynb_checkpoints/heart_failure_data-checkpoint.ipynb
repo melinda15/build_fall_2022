{
 "cells": [
  {
   "cell_type": "code",
   "execution_count": 1,
   "id": "72948fb7",
   "metadata": {},
   "outputs": [
    {
     "data": {
      "text/html": [
       "<div>\n",
       "<style scoped>\n",
       "    .dataframe tbody tr th:only-of-type {\n",
       "        vertical-align: middle;\n",
       "    }\n",
       "\n",
       "    .dataframe tbody tr th {\n",
       "        vertical-align: top;\n",
       "    }\n",
       "\n",
       "    .dataframe thead th {\n",
       "        text-align: right;\n",
       "    }\n",
       "</style>\n",
       "<table border=\"1\" class=\"dataframe\">\n",
       "  <thead>\n",
       "    <tr style=\"text-align: right;\">\n",
       "      <th></th>\n",
       "      <th>age</th>\n",
       "      <th>anaemia</th>\n",
       "      <th>creatinine_phosphokinase</th>\n",
       "      <th>diabetes</th>\n",
       "      <th>ejection_fraction</th>\n",
       "      <th>high_blood_pressure</th>\n",
       "      <th>platelets</th>\n",
       "      <th>serum_creatinine</th>\n",
       "      <th>serum_sodium</th>\n",
       "      <th>sex</th>\n",
       "      <th>smoking</th>\n",
       "      <th>time</th>\n",
       "      <th>DEATH_EVENT</th>\n",
       "    </tr>\n",
       "  </thead>\n",
       "  <tbody>\n",
       "    <tr>\n",
       "      <th>0</th>\n",
       "      <td>75.0</td>\n",
       "      <td>0</td>\n",
       "      <td>582</td>\n",
       "      <td>0</td>\n",
       "      <td>20</td>\n",
       "      <td>1</td>\n",
       "      <td>265000.00</td>\n",
       "      <td>1.9</td>\n",
       "      <td>130</td>\n",
       "      <td>1</td>\n",
       "      <td>0</td>\n",
       "      <td>4</td>\n",
       "      <td>1</td>\n",
       "    </tr>\n",
       "    <tr>\n",
       "      <th>1</th>\n",
       "      <td>55.0</td>\n",
       "      <td>0</td>\n",
       "      <td>7861</td>\n",
       "      <td>0</td>\n",
       "      <td>38</td>\n",
       "      <td>0</td>\n",
       "      <td>263358.03</td>\n",
       "      <td>1.1</td>\n",
       "      <td>136</td>\n",
       "      <td>1</td>\n",
       "      <td>0</td>\n",
       "      <td>6</td>\n",
       "      <td>1</td>\n",
       "    </tr>\n",
       "    <tr>\n",
       "      <th>2</th>\n",
       "      <td>65.0</td>\n",
       "      <td>0</td>\n",
       "      <td>146</td>\n",
       "      <td>0</td>\n",
       "      <td>20</td>\n",
       "      <td>0</td>\n",
       "      <td>162000.00</td>\n",
       "      <td>1.3</td>\n",
       "      <td>129</td>\n",
       "      <td>1</td>\n",
       "      <td>1</td>\n",
       "      <td>7</td>\n",
       "      <td>1</td>\n",
       "    </tr>\n",
       "    <tr>\n",
       "      <th>3</th>\n",
       "      <td>50.0</td>\n",
       "      <td>1</td>\n",
       "      <td>111</td>\n",
       "      <td>0</td>\n",
       "      <td>20</td>\n",
       "      <td>0</td>\n",
       "      <td>210000.00</td>\n",
       "      <td>1.9</td>\n",
       "      <td>137</td>\n",
       "      <td>1</td>\n",
       "      <td>0</td>\n",
       "      <td>7</td>\n",
       "      <td>1</td>\n",
       "    </tr>\n",
       "    <tr>\n",
       "      <th>4</th>\n",
       "      <td>65.0</td>\n",
       "      <td>1</td>\n",
       "      <td>160</td>\n",
       "      <td>1</td>\n",
       "      <td>20</td>\n",
       "      <td>0</td>\n",
       "      <td>327000.00</td>\n",
       "      <td>2.7</td>\n",
       "      <td>116</td>\n",
       "      <td>0</td>\n",
       "      <td>0</td>\n",
       "      <td>8</td>\n",
       "      <td>1</td>\n",
       "    </tr>\n",
       "  </tbody>\n",
       "</table>\n",
       "</div>"
      ],
      "text/plain": [
       "    age  anaemia  creatinine_phosphokinase  diabetes  ejection_fraction  \\\n",
       "0  75.0        0                       582         0                 20   \n",
       "1  55.0        0                      7861         0                 38   \n",
       "2  65.0        0                       146         0                 20   \n",
       "3  50.0        1                       111         0                 20   \n",
       "4  65.0        1                       160         1                 20   \n",
       "\n",
       "   high_blood_pressure  platelets  serum_creatinine  serum_sodium  sex  \\\n",
       "0                    1  265000.00               1.9           130    1   \n",
       "1                    0  263358.03               1.1           136    1   \n",
       "2                    0  162000.00               1.3           129    1   \n",
       "3                    0  210000.00               1.9           137    1   \n",
       "4                    0  327000.00               2.7           116    0   \n",
       "\n",
       "   smoking  time  DEATH_EVENT  \n",
       "0        0     4            1  \n",
       "1        0     6            1  \n",
       "2        1     7            1  \n",
       "3        0     7            1  \n",
       "4        0     8            1  "
      ]
     },
     "execution_count": 1,
     "metadata": {},
     "output_type": "execute_result"
    }
   ],
   "source": [
    "import pandas as pd\n",
    "import seaborn as sns\n",
    "\n",
    "pd.options.display.max_columns = None\n",
    "pd.options.display.max_rows = None\n",
    "\n",
    "data = pd.read_csv(\"heart_failure_clinical_records_dataset.csv\")\n",
    "\n",
    "data.head()"
   ]
  },
  {
   "cell_type": "code",
   "execution_count": 32,
   "id": "bacd7569",
   "metadata": {},
   "outputs": [],
   "source": [
    "# Questions:\n",
    "\n",
    "## 1. Are males or females more likely to die from heart failure?\n",
    "## 2. What is the average age that people are prone to heart failure?\n",
    "## 3. What is the average ejection fraction from survival of heart failure?\n",
    "## 4. Is survival more likely with lower or high serum creatinine?\n",
    "## 5. Is diabetes more common in males or females?\n",
    "## 6. Is high blood pressure more common in males or females?\n",
    "## 7. Is anemia more common in males or females?\n",
    "## 8. According to the John Hopkins Medicine, having too many platelets in your blood can lead to things like a heart attack or stroke. A normal range is 150,000 to 450,000, how many people have higher than normal platelets count? (https://www.hopkinsmedicine.org/health/conditions-and-diseases/what-are-platelets-and-why-are-they-important)\n",
    "## 9. What is the average level of creatinine phosphokinase in people who survived and those who did not?\n",
    "## 10. What is the average of serum sodium?"
   ]
  },
  {
   "cell_type": "code",
   "execution_count": 3,
   "id": "2193dfec",
   "metadata": {},
   "outputs": [],
   "source": [
    "## Question 1: Are males or females more likely to die from heart failure?"
   ]
  },
  {
   "cell_type": "code",
   "execution_count": 4,
   "id": "49471961",
   "metadata": {},
   "outputs": [
    {
     "data": {
      "text/plain": [
       "'Female'"
      ]
     },
     "execution_count": 4,
     "metadata": {},
     "output_type": "execute_result"
    }
   ],
   "source": [
    "sex = None\n",
    "male_deaths = data[(data[\"DEATH_EVENT\"] == 1) & (data[\"sex\"] == 0)][\"DEATH_EVENT\"].sum()\n",
    "female_deaths = data[(data[\"DEATH_EVENT\"] == 1) & (data[\"sex\"] == 1)][\"DEATH_EVENT\"].sum()\n",
    "\n",
    "if male_deaths > female_deaths:\n",
    "    sex = \"Male\"\n",
    "else:\n",
    "    sex = \"Female\"\n",
    "    \n",
    "sex"
   ]
  },
  {
   "cell_type": "code",
   "execution_count": 5,
   "id": "09ac95dc",
   "metadata": {},
   "outputs": [
    {
     "data": {
      "text/plain": [
       "<seaborn.axisgrid.FacetGrid at 0x2810b4fa440>"
      ]
     },
     "execution_count": 5,
     "metadata": {},
     "output_type": "execute_result"
    },
    {
     "data": {
      "image/png": "[encoded data removed]",
      "text/plain": [
       "<Figure size 600x300 with 2 Axes>"
      ]
     },
     "metadata": {},
     "output_type": "display_data"
    }
   ],
   "source": [
    "graph = sns.FacetGrid(data, col = \"sex\")\n",
    "graph.map_dataframe(sns.histplot, x = \"DEATH_EVENT\", bins = 1)"
   ]
  },
  {
   "cell_type": "code",
   "execution_count": 6,
   "id": "390b6d2b",
   "metadata": {},
   "outputs": [],
   "source": [
    "### Answer 1: Based on the code above and the dataset I chose, females are more likely to die from a heart failure than males."
   ]
  },
  {
   "cell_type": "code",
   "execution_count": 7,
   "id": "47440224",
   "metadata": {},
   "outputs": [],
   "source": [
    "## Question 2: What is the average age that people are prone to heart failure?"
   ]
  },
  {
   "cell_type": "code",
   "execution_count": 8,
   "id": "f6b90b33",
   "metadata": {},
   "outputs": [
    {
     "data": {
      "text/plain": [
       "60.83389297658862"
      ]
     },
     "execution_count": 8,
     "metadata": {},
     "output_type": "execute_result"
    }
   ],
   "source": [
    "avg_age = data[\"age\"].mean()\n",
    "avg_age"
   ]
  },
  {
   "cell_type": "code",
   "execution_count": 9,
   "id": "827b846f",
   "metadata": {},
   "outputs": [
    {
     "data": {
      "text/plain": [
       "<AxesSubplot: xlabel='age'>"
      ]
     },
     "execution_count": 9,
     "metadata": {},
     "output_type": "execute_result"
    },
    {
     "data": {
      "image/png": "[encoded data removed]",
      "text/plain": [
       "<Figure size 640x480 with 1 Axes>"
      ]
     },
     "metadata": {},
     "output_type": "display_data"
    }
   ],
   "source": [
    "sns.boxplot(x = data[\"age\"])"
   ]
  },
  {
   "cell_type": "code",
   "execution_count": 10,
   "id": "a3942774",
   "metadata": {},
   "outputs": [],
   "source": [
    "### Answer 2: The average age that people are prone to heart failure is 60."
   ]
  },
  {
   "cell_type": "code",
   "execution_count": 11,
   "id": "659f6481",
   "metadata": {},
   "outputs": [],
   "source": [
    "## Question 3: What is the average ejection fraction from survival of heart failure?"
   ]
  },
  {
   "cell_type": "code",
   "execution_count": 12,
   "id": "888c0595",
   "metadata": {},
   "outputs": [
    {
     "data": {
      "text/plain": [
       "40.26600985221675"
      ]
     },
     "execution_count": 12,
     "metadata": {},
     "output_type": "execute_result"
    }
   ],
   "source": [
    "avg_ejection_fraction = data[data[\"DEATH_EVENT\"] == 0][\"ejection_fraction\"].mean()\n",
    "avg_ejection_fraction"
   ]
  },
  {
   "cell_type": "code",
   "execution_count": 13,
   "id": "fd461fb2",
   "metadata": {},
   "outputs": [
    {
     "data": {
      "text/plain": [
       "<AxesSubplot: xlabel='ejection_fraction'>"
      ]
     },
     "execution_count": 13,
     "metadata": {},
     "output_type": "execute_result"
    },
    {
     "data": {
      "image/png": "[encoded data removed]",
      "text/plain": [
       "<Figure size 640x480 with 1 Axes>"
      ]
     },
     "metadata": {},
     "output_type": "display_data"
    }
   ],
   "source": [
    "sns.boxplot(x =(data[data[\"DEATH_EVENT\"] == 0][\"ejection_fraction\"]))"
   ]
  },
  {
   "cell_type": "code",
   "execution_count": 14,
   "id": "c5efc79f",
   "metadata": {},
   "outputs": [],
   "source": [
    "### Answer 3: The averge ejection fraction of the survival of heart failure is 40.26"
   ]
  },
  {
   "cell_type": "code",
   "execution_count": 15,
   "id": "54fbfb3b",
   "metadata": {},
   "outputs": [],
   "source": [
    "## Question 4: Is survival more likely with lower or high serum creatinine?"
   ]
  },
  {
   "cell_type": "code",
   "execution_count": 16,
   "id": "da3e689f",
   "metadata": {},
   "outputs": [
    {
     "data": {
      "text/plain": [
       "'Lower is better'"
      ]
     },
     "execution_count": 16,
     "metadata": {},
     "output_type": "execute_result"
    }
   ],
   "source": [
    "creatinine_level = None\n",
    "\n",
    "survived = data[data[\"DEATH_EVENT\"] == 0]\n",
    "not_survived = data[data[\"DEATH_EVENT\"] == 1]\n",
    "\n",
    "survived_creatinine_level = survived[\"serum_creatinine\"].mean()\n",
    "not_survived_creatinine_level = not_survived[\"serum_creatinine\"].mean()\n",
    "\n",
    "if not_survived_creatinine_level > survived_creatinine_level:\n",
    "    creatinine_level = \"Lower is better\"\n",
    "else:\n",
    "    creatinine_level = \"Higher is better\"\n",
    "    \n",
    "creatinine_level"
   ]
  },
  {
   "cell_type": "code",
   "execution_count": 17,
   "id": "d900ab64",
   "metadata": {},
   "outputs": [
    {
     "data": {
      "text/plain": [
       "<AxesSubplot: xlabel='DEATH_EVENT', ylabel='serum_creatinine'>"
      ]
     },
     "execution_count": 17,
     "metadata": {},
     "output_type": "execute_result"
    },
    {
     "data": {
      "image/png": "[encoded data removed]",
      "text/plain": [
       "<Figure size 640x480 with 1 Axes>"
      ]
     },
     "metadata": {},
     "output_type": "display_data"
    }
   ],
   "source": [
    "sns.barplot(y = data[\"serum_creatinine\"], x = data[\"DEATH_EVENT\"])\n",
    "#0 is survived, 1 is death"
   ]
  },
  {
   "cell_type": "code",
   "execution_count": 18,
   "id": "7e2b8494",
   "metadata": {},
   "outputs": [],
   "source": [
    "### Answer 4: Having lower level of the serum creatinine is better for survival of heart failure than high levels."
   ]
  },
  {
   "cell_type": "code",
   "execution_count": 19,
   "id": "897131e3",
   "metadata": {},
   "outputs": [],
   "source": [
    "## Question 5: Is diabetes more common in males or females?"
   ]
  },
  {
   "cell_type": "code",
   "execution_count": 20,
   "id": "351bfaa9",
   "metadata": {},
   "outputs": [
    {
     "data": {
      "text/plain": [
       "'female'"
      ]
     },
     "execution_count": 20,
     "metadata": {},
     "output_type": "execute_result"
    }
   ],
   "source": [
    "male_diabetes = data[(data[\"sex\"] == 0) & (data[\"diabetes\"] == 1)][\"diabetes\"].sum()\n",
    "female_diabetes = data[(data[\"sex\"] == 1) & (data[\"diabetes\"] == 1)][\"diabetes\"].sum()\n",
    "\n",
    "sex_diabetes = \"female\" if male_diabetes < female_diabetes else \"male\" \n",
    "\n",
    "sex_diabetes"
   ]
  },
  {
   "cell_type": "code",
   "execution_count": 21,
   "id": "b3760719",
   "metadata": {},
   "outputs": [],
   "source": [
    "### Answer 5: It is more common to have diabetes in females"
   ]
  },
  {
   "cell_type": "code",
   "execution_count": 22,
   "id": "19532b81",
   "metadata": {},
   "outputs": [],
   "source": [
    "## Question 6: Is high blood pressure more common in males or females?"
   ]
  },
  {
   "cell_type": "code",
   "execution_count": 23,
   "id": "47ba26ce",
   "metadata": {},
   "outputs": [
    {
     "data": {
      "text/plain": [
       "'female'"
      ]
     },
     "execution_count": 23,
     "metadata": {},
     "output_type": "execute_result"
    }
   ],
   "source": [
    "male_hbp = data[(data[\"sex\"] == 0) & (data[\"high_blood_pressure\"] == 1)][\"high_blood_pressure\"].sum()\n",
    "female_hbp = data[(data[\"sex\"] == 1) & (data[\"high_blood_pressure\"] == 1)][\"high_blood_pressure\"].sum()\n",
    "\n",
    "sex_hbp = \"female\" if male_hbp < female_hbp else \"male\"\n",
    "\n",
    "sex_hbp"
   ]
  },
  {
   "cell_type": "code",
   "execution_count": 24,
   "id": "13d675f7",
   "metadata": {},
   "outputs": [],
   "source": [
    "### Answer 6: It is more common to have high blood pressure if you are female"
   ]
  },
  {
   "cell_type": "code",
   "execution_count": 25,
   "id": "c85bb8dd",
   "metadata": {},
   "outputs": [],
   "source": [
    "## Question 7: Is anemia more common in males or females?"
   ]
  },
  {
   "cell_type": "code",
   "execution_count": 26,
   "id": "54e8bbf5",
   "metadata": {},
   "outputs": [
    {
     "data": {
      "text/plain": [
       "'female'"
      ]
     },
     "execution_count": 26,
     "metadata": {},
     "output_type": "execute_result"
    }
   ],
   "source": [
    "male_anemia = data[(data[\"sex\"] == 0) & (data[\"anaemia\"] == 1)][\"anaemia\"].sum() # original data misspelled anemia\n",
    "female_anemia = data[(data[\"sex\"] == 1) & (data[\"anaemia\"] == 1)][\"anaemia\"].sum()\n",
    "\n",
    "sex_anemia = \"female\" if male_anemia < female_anemia else \"male\"\n",
    "\n",
    "sex_anemia"
   ]
  },
  {
   "cell_type": "code",
   "execution_count": 27,
   "id": "95bd7e3c",
   "metadata": {},
   "outputs": [],
   "source": [
    "### Answer 7: It is more common to have high blood sugar in females"
   ]
  },
  {
   "cell_type": "code",
   "execution_count": 28,
   "id": "962653d6",
   "metadata": {},
   "outputs": [],
   "source": [
    "## Question 8: According to the John Hopkins Medicine, having too many platelets in your blood can lead to things like a heart attack or stroke. A normal range is 150,000 to 450,000, how many people have higher than normal platelets count? (https://www.hopkinsmedicine.org/health/conditions-and-diseases/what-are-platelets-and-why-are-they-important)"
   ]
  },
  {
   "cell_type": "code",
   "execution_count": 29,
   "id": "8bd4b9f5",
   "metadata": {},
   "outputs": [
    {
     "data": {
      "text/plain": [
       "13"
      ]
     },
     "execution_count": 29,
     "metadata": {},
     "output_type": "execute_result"
    }
   ],
   "source": [
    "max_normal_range = 450000\n",
    "\n",
    "higher_normal = (data[\"platelets\"] > max_normal_range).sum()\n",
    "\n",
    "higher_normal"
   ]
  },
  {
   "cell_type": "code",
   "execution_count": 30,
   "id": "ebc47951",
   "metadata": {},
   "outputs": [],
   "source": [
    "### Answer 8: There are 13 people who have higher than normal platelets count"
   ]
  },
  {
   "cell_type": "code",
   "execution_count": 31,
   "id": "44cd0a3e",
   "metadata": {},
   "outputs": [],
   "source": [
    "## Question 9: What is the average level of creatinine phosphokinase in people who survived and those who did not?"
   ]
  },
  {
   "cell_type": "code",
   "execution_count": null,
   "id": "ab5b29b9",
   "metadata": {},
   "outputs": [],
   "source": []
  }
 ],
 "metadata": {
  "kernelspec": {
   "display_name": "Python 3 (ipykernel)",
   "language": "python",
   "name": "python3"
  },
  "language_info": {
   "codemirror_mode": {
    "name": "ipython",
    "version": 3
   },
   "file_extension": ".py",
   "mimetype": "text/x-python",
   "name": "python",
   "nbconvert_exporter": "python",
   "pygments_lexer": "ipython3",
   "version": "3.10.7"
  },
  "vscode": {
   "interpreter": {
    "hash": "e1a1e726527094bcd9ab6004f9869c99ff7b44ef5acf3aca01ec499374ca7e79"
   }
  }
 },
 "nbformat": 4,
 "nbformat_minor": 5
}
