{
 "cells": [
  {
   "cell_type": "code",
   "execution_count": null,
   "id": "44a940de",
   "metadata": {},
   "outputs": [],
   "source": [
    "import pandas as pd\n",
    "\n",
    "pd.options.display.max_columns = None\n",
    "pd.options.display.max_rows = None"
   ]
  },
  {
   "cell_type": "code",
   "execution_count": null,
   "id": "1a8fdb88",
   "metadata": {},
   "outputs": [],
   "source": [
    "# Step 1: Use the appropriate pandas method to read the titanic data into your python file \n",
    "titanic_data = pd.read_csv(\"titanic.csv\")\n",
    "titanic_data"
   ]
  },
  {
   "cell_type": "code",
   "execution_count": null,
   "id": "1a9bc88b",
   "metadata": {},
   "outputs": [],
   "source": [
    "# Step 2(a): Use the pandas method that reads the first 25 lines of the dataset\n",
    "first_25_passengers = titanic_data.head(25)\n",
    "first_25_passengers"
   ]
  },
  {
   "cell_type": "code",
   "execution_count": null,
   "id": "b8b2170c",
   "metadata": {},
   "outputs": [],
   "source": [
    "# Step 2(b): Use the pandas method thats reads the last 25 lines of the dataset\n",
    "last_25_passengers = titanic_data.tail(25)\n",
    "last_25_passengers"
   ]
  },
  {
   "cell_type": "code",
   "execution_count": null,
   "id": "f569a148",
   "metadata": {},
   "outputs": [],
   "source": [
    "# Step 3: Use the pandas method that only tells us the number of rows and columns in our data\n",
    "titanic_shape = titanic_data.shape\n",
    "titanic_shape"
   ]
  },
  {
   "cell_type": "code",
   "execution_count": null,
   "id": "09f26229",
   "metadata": {},
   "outputs": [],
   "source": [
    "# Step 4: Describe the titanic data\n",
    "titanic_description = titanic_data.describe()\n",
    "titanic_description"
   ]
  },
  {
   "cell_type": "code",
   "execution_count": null,
   "id": "64437732",
   "metadata": {},
   "outputs": [],
   "source": [
    "# Step 5(a): How many passengers were between the ages of 0 to 16? \n",
    "children = titanic_data[(titanic_data[\"Age\"] >= 0) & (titanic_data[\"Age\"] <= 16)]\n",
    "children"
   ]
  },
  {
   "cell_type": "code",
   "execution_count": null,
   "id": "de77de4d",
   "metadata": {},
   "outputs": [],
   "source": [
    "# Step 5(b): How many passengers were between the ages of 17 to 25?\n",
    "young_adults = titanic_data[(titanic_data[\"Age\"] >=  17) & (titanic_data[\"Age\"] <= 25)]\n",
    "young_adults"
   ]
  },
  {
   "cell_type": "code",
   "execution_count": null,
   "id": "0ff22d5c",
   "metadata": {},
   "outputs": [],
   "source": [
    "# Step 5(c): How many passengers were between the ages of 26 to 40?\n",
    "adults = titanic_data[(titanic_data[\"Age\"] >=  26) & (titanic_data[\"Age\"] <= 40)]\n",
    "adults"
   ]
  },
  {
   "cell_type": "code",
   "execution_count": null,
   "id": "936a4675",
   "metadata": {},
   "outputs": [],
   "source": [
    "# Step 5(d): How many passengers were between the ages of 41 to 59?\n",
    "mature_adults = titanic_data[(titanic_data[\"Age\"] >=  41) & (titanic_data[\"Age\"] <= 59)]\n",
    "mature_adults"
   ]
  },
  {
   "cell_type": "code",
   "execution_count": null,
   "id": "cbe66426",
   "metadata": {},
   "outputs": [],
   "source": [
    "# Step 5(e): How many passengers were 60 or older?\n",
    "seniors = titanic_data[titanic_data[\"Age\"] >= 60]\n",
    "seniors"
   ]
  },
  {
   "cell_type": "code",
   "execution_count": null,
   "id": "863a94e4",
   "metadata": {},
   "outputs": [],
   "source": [
    "# Step 6: How many values are missing from the \"age\" column\n",
    "missing_ages = titanic_data[\"Age\"].isnull().sum()\n",
    "missing_ages"
   ]
  },
  {
   "cell_type": "code",
   "execution_count": null,
   "id": "9fb9cd7b",
   "metadata": {},
   "outputs": [],
   "source": [
    "# Step 7: List out all the available passengers' ages\n",
    "age_list = titanic_data[\"Age\"].dropna().unique()\n",
    "age_list"
   ]
  },
  {
   "cell_type": "code",
   "execution_count": null,
   "id": "33678d89",
   "metadata": {},
   "outputs": [],
   "source": [
    "# Step 8: Filter the DataFrame to find all passengers who boarded the Titanic at Port Cherbourg\n",
    "cherbourg_passengers = titanic_data[titanic_data[\"Embarked\"] == \"C\"]\n",
    "cherbourg_passengers"
   ]
  },
  {
   "cell_type": "code",
   "execution_count": null,
   "id": "12035fe6",
   "metadata": {},
   "outputs": [],
   "source": [
    "# Step 9(a): Find the average age of all female passengers\n",
    "avg_fem_age = titanic_data[titanic_data[\"Sex\"] == \"female\"][\"Age\"].mean()\n",
    "avg_fem_age"
   ]
  },
  {
   "cell_type": "code",
   "execution_count": null,
   "id": "d173cc5c",
   "metadata": {},
   "outputs": [],
   "source": [
    "# Step 9(b): Find the average age of all male passengers\n",
    "avg_male_age = titanic_data[titanic_data[\"Sex\"] == \"male\"][\"Age\"].mean()\n",
    "avg_male_age"
   ]
  },
  {
   "cell_type": "code",
   "execution_count": null,
   "id": "a6e95306",
   "metadata": {},
   "outputs": [],
   "source": [
    "# Step 10(a): Find the survival percentage of passengers in group \"C\"\n",
    "total_cherbourg_passengers = len(titanic_data[titanic_data[\"Embarked\"] == \"C\"])\n",
    "cherbourg_survival = titanic_data[(titanic_data[\"Embarked\"] == \"C\") & titanic_data[\"Survived\"] == 1][\"Survived\"].sum()\n",
    "cherbourg_survival / total_cherbourg_passengers * 100"
   ]
  },
  {
   "cell_type": "code",
   "execution_count": null,
   "id": "f309cfe8",
   "metadata": {},
   "outputs": [],
   "source": [
    "# Step 10(b): Find the survival percentage of passengers in group \"Q\"\n",
    "total_queenstown_passengers = len(titanic_data[titanic_data[\"Embarked\"] == \"Q\"])\n",
    "queenstown_survival = titanic_data[(titanic_data[\"Embarked\"] == \"Q\") & titanic_data[\"Survived\"] == 1][\"Survived\"].sum()\n",
    "queenstown_survival / total_queenstown_passengers * 100"
   ]
  },
  {
   "cell_type": "code",
   "execution_count": null,
   "id": "7d4d1c9d",
   "metadata": {},
   "outputs": [],
   "source": [
    "# Step 10(c): Find the survival percentage of passengers in group \"S\"\n",
    "total_south_passengers = len(titanic_data[titanic_data[\"Embarked\"] == \"S\"])\n",
    "south_survival = titanic_data[(titanic_data[\"Embarked\"] == \"S\") & titanic_data[\"Survived\"] == 1][\"Survived\"].sum()\n",
    "south_survival / total_south_passengers * 100"
   ]
  },
  {
   "cell_type": "code",
   "execution_count": null,
   "id": "a53ff7bb",
   "metadata": {},
   "outputs": [],
   "source": []
  }
 ],
 "metadata": {
  "kernelspec": {
   "display_name": "Python 3 (ipykernel)",
   "language": "python",
   "name": "python3"
  },
  "language_info": {
   "codemirror_mode": {
    "name": "ipython",
    "version": 3
   },
   "file_extension": ".py",
   "mimetype": "text/x-python",
   "name": "python",
   "nbconvert_exporter": "python",
   "pygments_lexer": "ipython3",
   "version": "3.10.7"
  }
 },
 "nbformat": 4,
 "nbformat_minor": 5
}
