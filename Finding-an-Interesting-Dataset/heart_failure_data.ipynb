{
 "cells": [
  {
   "cell_type": "code",
   "execution_count": 1,
   "id": "72948fb7",
   "metadata": {},
   "outputs": [
    {
     "data": {
      "text/html": [
       "<div>\n",
       "<style scoped>\n",
       "    .dataframe tbody tr th:only-of-type {\n",
       "        vertical-align: middle;\n",
       "    }\n",
       "\n",
       "    .dataframe tbody tr th {\n",
       "        vertical-align: top;\n",
       "    }\n",
       "\n",
       "    .dataframe thead th {\n",
       "        text-align: right;\n",
       "    }\n",
       "</style>\n",
       "<table border=\"1\" class=\"dataframe\">\n",
       "  <thead>\n",
       "    <tr style=\"text-align: right;\">\n",
       "      <th></th>\n",
       "      <th>age</th>\n",
       "      <th>anaemia</th>\n",
       "      <th>creatinine_phosphokinase</th>\n",
       "      <th>diabetes</th>\n",
       "      <th>ejection_fraction</th>\n",
       "      <th>high_blood_pressure</th>\n",
       "      <th>platelets</th>\n",
       "      <th>serum_creatinine</th>\n",
       "      <th>serum_sodium</th>\n",
       "      <th>sex</th>\n",
       "      <th>smoking</th>\n",
       "      <th>time</th>\n",
       "      <th>DEATH_EVENT</th>\n",
       "    </tr>\n",
       "  </thead>\n",
       "  <tbody>\n",
       "    <tr>\n",
       "      <th>0</th>\n",
       "      <td>75.0</td>\n",
       "      <td>0</td>\n",
       "      <td>582</td>\n",
       "      <td>0</td>\n",
       "      <td>20</td>\n",
       "      <td>1</td>\n",
       "      <td>265000.00</td>\n",
       "      <td>1.9</td>\n",
       "      <td>130</td>\n",
       "      <td>1</td>\n",
       "      <td>0</td>\n",
       "      <td>4</td>\n",
       "      <td>1</td>\n",
       "    </tr>\n",
       "    <tr>\n",
       "      <th>1</th>\n",
       "      <td>55.0</td>\n",
       "      <td>0</td>\n",
       "      <td>7861</td>\n",
       "      <td>0</td>\n",
       "      <td>38</td>\n",
       "      <td>0</td>\n",
       "      <td>263358.03</td>\n",
       "      <td>1.1</td>\n",
       "      <td>136</td>\n",
       "      <td>1</td>\n",
       "      <td>0</td>\n",
       "      <td>6</td>\n",
       "      <td>1</td>\n",
       "    </tr>\n",
       "    <tr>\n",
       "      <th>2</th>\n",
       "      <td>65.0</td>\n",
       "      <td>0</td>\n",
       "      <td>146</td>\n",
       "      <td>0</td>\n",
       "      <td>20</td>\n",
       "      <td>0</td>\n",
       "      <td>162000.00</td>\n",
       "      <td>1.3</td>\n",
       "      <td>129</td>\n",
       "      <td>1</td>\n",
       "      <td>1</td>\n",
       "      <td>7</td>\n",
       "      <td>1</td>\n",
       "    </tr>\n",
       "    <tr>\n",
       "      <th>3</th>\n",
       "      <td>50.0</td>\n",
       "      <td>1</td>\n",
       "      <td>111</td>\n",
       "      <td>0</td>\n",
       "      <td>20</td>\n",
       "      <td>0</td>\n",
       "      <td>210000.00</td>\n",
       "      <td>1.9</td>\n",
       "      <td>137</td>\n",
       "      <td>1</td>\n",
       "      <td>0</td>\n",
       "      <td>7</td>\n",
       "      <td>1</td>\n",
       "    </tr>\n",
       "    <tr>\n",
       "      <th>4</th>\n",
       "      <td>65.0</td>\n",
       "      <td>1</td>\n",
       "      <td>160</td>\n",
       "      <td>1</td>\n",
       "      <td>20</td>\n",
       "      <td>0</td>\n",
       "      <td>327000.00</td>\n",
       "      <td>2.7</td>\n",
       "      <td>116</td>\n",
       "      <td>0</td>\n",
       "      <td>0</td>\n",
       "      <td>8</td>\n",
       "      <td>1</td>\n",
       "    </tr>\n",
       "  </tbody>\n",
       "</table>\n",
       "</div>"
      ],
      "text/plain": [
       "    age  anaemia  creatinine_phosphokinase  diabetes  ejection_fraction  \\\n",
       "0  75.0        0                       582         0                 20   \n",
       "1  55.0        0                      7861         0                 38   \n",
       "2  65.0        0                       146         0                 20   \n",
       "3  50.0        1                       111         0                 20   \n",
       "4  65.0        1                       160         1                 20   \n",
       "\n",
       "   high_blood_pressure  platelets  serum_creatinine  serum_sodium  sex  \\\n",
       "0                    1  265000.00               1.9           130    1   \n",
       "1                    0  263358.03               1.1           136    1   \n",
       "2                    0  162000.00               1.3           129    1   \n",
       "3                    0  210000.00               1.9           137    1   \n",
       "4                    0  327000.00               2.7           116    0   \n",
       "\n",
       "   smoking  time  DEATH_EVENT  \n",
       "0        0     4            1  \n",
       "1        0     6            1  \n",
       "2        1     7            1  \n",
       "3        0     7            1  \n",
       "4        0     8            1  "
      ]
     },
     "execution_count": 1,
     "metadata": {},
     "output_type": "execute_result"
    }
   ],
   "source": [
    "import pandas as pd\n",
    "import seaborn as sns\n",
    "import matplotlib.pyplot as plt\n",
    "import numpy as np\n",
    "from sklearn import metrics\n",
    "from sklearn.model_selection import train_test_split\n",
    "from sklearn.metrics import classification_report, confusion_matrix, mean_absolute_error, mean_squared_error, r2_score, accuracy_score\n",
    "from sklearn.linear_model import LinearRegression, LogisticRegression\n",
    "\n",
    "data = pd.read_csv(\"heart_failure_clinical_records_dataset.csv\")\n",
    "\n",
    "data.head()"
   ]
  },
  {
   "cell_type": "code",
   "execution_count": 2,
   "id": "bacd7569",
   "metadata": {},
   "outputs": [],
   "source": [
    "# Questions:\n",
    "\n",
    "## 1. Are males or females more likely to die from heart failure?\n",
    "## 2. What is the average age that people are prone to heart failure?\n",
    "## 3. What is the average ejection fraction from survival of heart failure?\n",
    "## 4. Is survival more likely with lower or high serum creatinine?\n",
    "## 5. Is diabetes more common in males or females?\n",
    "## 6. Is high blood pressure more common in males or females?\n",
    "## 7. Is anemia more common in males or females?\n",
    "## 8. According to the John Hopkins Medicine, having too many platelets in your blood can lead to things like a heart attack or stroke. A normal range is 150,000 to 450,000, how many people have higher than normal platelets count? (https://www.hopkinsmedicine.org/health/conditions-and-diseases/what-are-platelets-and-why-are-they-important)\n",
    "## 9. What is the average level of creatinine phosphokinase in people who survived and those who did not?\n",
    "## 10. What is the average of serum sodium?"
   ]
  },
  {
   "cell_type": "code",
   "execution_count": 3,
   "id": "2193dfec",
   "metadata": {},
   "outputs": [],
   "source": [
    "## Question 1: Are males or females more likely to die from heart failure?"
   ]
  },
  {
   "cell_type": "code",
   "execution_count": 4,
   "id": "49471961",
   "metadata": {},
   "outputs": [
    {
     "data": {
      "text/plain": [
       "'Female'"
      ]
     },
     "execution_count": 4,
     "metadata": {},
     "output_type": "execute_result"
    }
   ],
   "source": [
    "sex = None\n",
    "male_deaths = data[(data[\"DEATH_EVENT\"] == 1) & (data[\"sex\"] == 0)][\"DEATH_EVENT\"].sum()\n",
    "female_deaths = data[(data[\"DEATH_EVENT\"] == 1) & (data[\"sex\"] == 1)][\"DEATH_EVENT\"].sum()\n",
    "\n",
    "if male_deaths > female_deaths:\n",
    "    sex = \"Male\"\n",
    "else:\n",
    "    sex = \"Female\"\n",
    "    \n",
    "sex"
   ]
  },
  {
   "cell_type": "code",
   "execution_count": 5,
   "id": "09ac95dc",
   "metadata": {},
   "outputs": [
    {
     "data": {
      "text/plain": [
       "<seaborn.axisgrid.FacetGrid at 0x24af4d9db70>"
      ]
     },
     "execution_count": 5,
     "metadata": {},
     "output_type": "execute_result"
    },
    {
     "data": {
      "image/png": "[encoded data removed]",
      "text/plain": [
       "<Figure size 600x300 with 2 Axes>"
      ]
     },
     "metadata": {},
     "output_type": "display_data"
    }
   ],
   "source": [
    "graph = sns.FacetGrid(data, col = \"sex\")\n",
    "graph.map_dataframe(sns.histplot, x = \"DEATH_EVENT\", bins = 1)"
   ]
  },
  {
   "cell_type": "code",
   "execution_count": 6,
   "id": "390b6d2b",
   "metadata": {},
   "outputs": [],
   "source": [
    "### Answer 1: Based on the code above and the dataset I chose, females are more likely to die from a heart failure than males."
   ]
  },
  {
   "cell_type": "code",
   "execution_count": 7,
   "id": "47440224",
   "metadata": {},
   "outputs": [],
   "source": [
    "## Question 2: What is the average age that people are prone to heart failure?"
   ]
  },
  {
   "cell_type": "code",
   "execution_count": 8,
   "id": "f6b90b33",
   "metadata": {},
   "outputs": [
    {
     "data": {
      "text/plain": [
       "60.83389297658862"
      ]
     },
     "execution_count": 8,
     "metadata": {},
     "output_type": "execute_result"
    }
   ],
   "source": [
    "avg_age = data[\"age\"].mean()\n",
    "avg_age"
   ]
  },
  {
   "cell_type": "code",
   "execution_count": 9,
   "id": "827b846f",
   "metadata": {},
   "outputs": [
    {
     "data": {
      "text/plain": [
       "<AxesSubplot: xlabel='age'>"
      ]
     },
     "execution_count": 9,
     "metadata": {},
     "output_type": "execute_result"
    },
    {
     "data": {
      "image/png": "[encoded data removed]",
      "text/plain": [
       "<Figure size 640x480 with 1 Axes>"
      ]
     },
     "metadata": {},
     "output_type": "display_data"
    }
   ],
   "source": [
    "sns.boxplot(x = data[\"age\"])"
   ]
  },
  {
   "cell_type": "code",
   "execution_count": 10,
   "id": "a3942774",
   "metadata": {},
   "outputs": [],
   "source": [
    "### Answer 2: The average age that people are prone to heart failure is 60."
   ]
  },
  {
   "cell_type": "code",
   "execution_count": 11,
   "id": "659f6481",
   "metadata": {},
   "outputs": [],
   "source": [
    "## Question 3: What is the average ejection fraction from survival of heart failure?"
   ]
  },
  {
   "cell_type": "code",
   "execution_count": 12,
   "id": "888c0595",
   "metadata": {},
   "outputs": [
    {
     "data": {
      "text/plain": [
       "40.26600985221675"
      ]
     },
     "execution_count": 12,
     "metadata": {},
     "output_type": "execute_result"
    }
   ],
   "source": [
    "avg_ejection_fraction = data[data[\"DEATH_EVENT\"] == 0][\"ejection_fraction\"].mean()\n",
    "avg_ejection_fraction"
   ]
  },
  {
   "cell_type": "code",
   "execution_count": 13,
   "id": "fd461fb2",
   "metadata": {},
   "outputs": [
    {
     "data": {
      "text/plain": [
       "<AxesSubplot: xlabel='ejection_fraction'>"
      ]
     },
     "execution_count": 13,
     "metadata": {},
     "output_type": "execute_result"
    },
    {
     "data": {
      "image/png": "[encoded data removed]",
      "text/plain": [
       "<Figure size 640x480 with 1 Axes>"
      ]
     },
     "metadata": {},
     "output_type": "display_data"
    }
   ],
   "source": [
    "sns.boxplot(x =(data[data[\"DEATH_EVENT\"] == 0][\"ejection_fraction\"]))"
   ]
  },
  {
   "cell_type": "code",
   "execution_count": 14,
   "id": "c5efc79f",
   "metadata": {},
   "outputs": [],
   "source": [
    "### Answer 3: The averge ejection fraction of the survival of heart failure is 40.26"
   ]
  },
  {
   "cell_type": "code",
   "execution_count": 15,
   "id": "54fbfb3b",
   "metadata": {},
   "outputs": [],
   "source": [
    "## Question 4: Is survival more likely with lower or high serum creatinine?"
   ]
  },
  {
   "cell_type": "code",
   "execution_count": 16,
   "id": "da3e689f",
   "metadata": {},
   "outputs": [
    {
     "data": {
      "text/plain": [
       "'Lower is better'"
      ]
     },
     "execution_count": 16,
     "metadata": {},
     "output_type": "execute_result"
    }
   ],
   "source": [
    "creatinine_level = None\n",
    "\n",
    "survived = data[data[\"DEATH_EVENT\"] == 0]\n",
    "not_survived = data[data[\"DEATH_EVENT\"] == 1]\n",
    "\n",
    "survived_creatinine_level = survived[\"serum_creatinine\"].mean()\n",
    "not_survived_creatinine_level = not_survived[\"serum_creatinine\"].mean()\n",
    "\n",
    "if not_survived_creatinine_level > survived_creatinine_level:\n",
    "    creatinine_level = \"Lower is better\"\n",
    "else:\n",
    "    creatinine_level = \"Higher is better\"\n",
    "    \n",
    "creatinine_level"
   ]
  },
  {
   "cell_type": "code",
   "execution_count": 17,
   "id": "d900ab64",
   "metadata": {},
   "outputs": [
    {
     "data": {
      "text/plain": [
       "<AxesSubplot: xlabel='DEATH_EVENT', ylabel='serum_creatinine'>"
      ]
     },
     "execution_count": 17,
     "metadata": {},
     "output_type": "execute_result"
    },
    {
     "data": {
      "image/png": "[encoded data removed]",
      "text/plain": [
       "<Figure size 640x480 with 1 Axes>"
      ]
     },
     "metadata": {},
     "output_type": "display_data"
    }
   ],
   "source": [
    "sns.barplot(y = data[\"serum_creatinine\"], x = data[\"DEATH_EVENT\"])\n",
    "#0 is survived, 1 is death"
   ]
  },
  {
   "cell_type": "code",
   "execution_count": 18,
   "id": "7e2b8494",
   "metadata": {},
   "outputs": [],
   "source": [
    "### Answer 4: Having lower level of the serum creatinine is better for survival of heart failure than high levels."
   ]
  },
  {
   "cell_type": "code",
   "execution_count": 19,
   "id": "897131e3",
   "metadata": {},
   "outputs": [],
   "source": [
    "## Question 5: Is diabetes more common in males or females?"
   ]
  },
  {
   "cell_type": "code",
   "execution_count": 20,
   "id": "351bfaa9",
   "metadata": {},
   "outputs": [
    {
     "data": {
      "text/plain": [
       "'female'"
      ]
     },
     "execution_count": 20,
     "metadata": {},
     "output_type": "execute_result"
    }
   ],
   "source": [
    "male_diabetes = data[(data[\"sex\"] == 0) & (data[\"diabetes\"] == 1)][\"diabetes\"].sum()\n",
    "female_diabetes = data[(data[\"sex\"] == 1) & (data[\"diabetes\"] == 1)][\"diabetes\"].sum()\n",
    "\n",
    "sex_diabetes = \"female\" if male_diabetes < female_diabetes else \"male\" \n",
    "\n",
    "sex_diabetes"
   ]
  },
  {
   "cell_type": "code",
   "execution_count": 21,
   "id": "980febe8",
   "metadata": {},
   "outputs": [
    {
     "data": {
      "image/png": "[encoded data removed]",
      "text/plain": [
       "<Figure size 640x480 with 1 Axes>"
      ]
     },
     "metadata": {},
     "output_type": "display_data"
    }
   ],
   "source": [
    "y = np.array([male_diabetes, female_diabetes])\n",
    "labels = [\"male\", \"female\"]\n",
    "\n",
    "plt.pie(y, labels = labels, autopct=\"%.0f%%\")\n",
    "plt.title(\"Diabetes\")\n",
    "plt.show()"
   ]
  },
  {
   "cell_type": "code",
   "execution_count": 22,
   "id": "b3760719",
   "metadata": {},
   "outputs": [],
   "source": [
    "### Answer 5: It is more common to have diabetes in females"
   ]
  },
  {
   "cell_type": "code",
   "execution_count": 23,
   "id": "19532b81",
   "metadata": {},
   "outputs": [],
   "source": [
    "## Question 6: Is high blood pressure more common in males or females?"
   ]
  },
  {
   "cell_type": "code",
   "execution_count": 24,
   "id": "47ba26ce",
   "metadata": {},
   "outputs": [
    {
     "data": {
      "text/plain": [
       "'female'"
      ]
     },
     "execution_count": 24,
     "metadata": {},
     "output_type": "execute_result"
    }
   ],
   "source": [
    "male_hbp = data[(data[\"sex\"] == 0) & (data[\"high_blood_pressure\"] == 1)][\"high_blood_pressure\"].sum()\n",
    "female_hbp = data[(data[\"sex\"] == 1) & (data[\"high_blood_pressure\"] == 1)][\"high_blood_pressure\"].sum()\n",
    "\n",
    "sex_hbp = \"female\" if male_hbp < female_hbp else \"male\"\n",
    "\n",
    "sex_hbp"
   ]
  },
  {
   "cell_type": "code",
   "execution_count": 25,
   "id": "8d648ad5",
   "metadata": {},
   "outputs": [
    {
     "data": {
      "image/png": "[encoded data removed]",
      "text/plain": [
       "<Figure size 640x480 with 1 Axes>"
      ]
     },
     "metadata": {},
     "output_type": "display_data"
    }
   ],
   "source": [
    "y = np.array([male_hbp, female_hbp])\n",
    "labels = [\"male\", \"female\"]\n",
    "\n",
    "plt.pie(y, labels = labels, autopct=\"%.0f%%\")\n",
    "plt.title(\"High blood pressure\")\n",
    "plt.show()"
   ]
  },
  {
   "cell_type": "code",
   "execution_count": 26,
   "id": "13d675f7",
   "metadata": {},
   "outputs": [],
   "source": [
    "### Answer 6: It is more common to have high blood pressure if you are female"
   ]
  },
  {
   "cell_type": "code",
   "execution_count": 27,
   "id": "c85bb8dd",
   "metadata": {},
   "outputs": [],
   "source": [
    "## Question 7: Is anemia more common in males or females?"
   ]
  },
  {
   "cell_type": "code",
   "execution_count": 28,
   "id": "54e8bbf5",
   "metadata": {},
   "outputs": [
    {
     "data": {
      "text/plain": [
       "'female'"
      ]
     },
     "execution_count": 28,
     "metadata": {},
     "output_type": "execute_result"
    }
   ],
   "source": [
    "male_anemia = data[(data[\"sex\"] == 0) & (data[\"anaemia\"] == 1)][\"anaemia\"].sum()\n",
    "female_anemia = data[(data[\"sex\"] == 1) & (data[\"anaemia\"] == 1)][\"anaemia\"].sum()\n",
    "\n",
    "sex_anemia = \"female\" if male_anemia < female_anemia else \"male\"\n",
    "\n",
    "sex_anemia"
   ]
  },
  {
   "cell_type": "code",
   "execution_count": 29,
   "id": "8f05d304",
   "metadata": {},
   "outputs": [
    {
     "data": {
      "image/png": "[encoded data removed]",
      "text/plain": [
       "<Figure size 640x480 with 1 Axes>"
      ]
     },
     "metadata": {},
     "output_type": "display_data"
    }
   ],
   "source": [
    "y = np.array([male_anemia, female_anemia])\n",
    "labels = [\"male\", \"female\"]\n",
    "\n",
    "plt.pie(y, labels = labels, autopct=\"%.0f%%\")\n",
    "plt.title(\"Anemia\")\n",
    "plt.show()"
   ]
  },
  {
   "cell_type": "code",
   "execution_count": 30,
   "id": "95bd7e3c",
   "metadata": {},
   "outputs": [],
   "source": [
    "### Answer 7: It is more common to have high blood sugar in females"
   ]
  },
  {
   "cell_type": "code",
   "execution_count": 31,
   "id": "962653d6",
   "metadata": {},
   "outputs": [],
   "source": [
    "## Question 8: According to the John Hopkins Medicine, having too many platelets in your blood can lead to things like a heart attack or stroke. A normal range is 150,000 to 450,000, how many people have higher than normal platelets count? (https://www.hopkinsmedicine.org/health/conditions-and-diseases/what-are-platelets-and-why-are-they-important)"
   ]
  },
  {
   "cell_type": "code",
   "execution_count": 32,
   "id": "8bd4b9f5",
   "metadata": {},
   "outputs": [
    {
     "data": {
      "text/plain": [
       "13"
      ]
     },
     "execution_count": 32,
     "metadata": {},
     "output_type": "execute_result"
    }
   ],
   "source": [
    "max_normal_range = 450000\n",
    "\n",
    "higher_normal = (data[\"platelets\"] > max_normal_range)\n",
    "\n",
    "higher_normal.sum()"
   ]
  },
  {
   "cell_type": "code",
   "execution_count": 33,
   "id": "2365486a",
   "metadata": {},
   "outputs": [
    {
     "data": {
      "text/plain": [
       "<AxesSubplot: xlabel='platelets', ylabel='count'>"
      ]
     },
     "execution_count": 33,
     "metadata": {},
     "output_type": "execute_result"
    },
    {
     "data": {
      "image/png": "[encoded data removed]",
      "text/plain": [
       "<Figure size 640x480 with 1 Axes>"
      ]
     },
     "metadata": {},
     "output_type": "display_data"
    }
   ],
   "source": [
    "sns.countplot(x=higher_normal)"
   ]
  },
  {
   "cell_type": "code",
   "execution_count": 34,
   "id": "ebc47951",
   "metadata": {},
   "outputs": [],
   "source": [
    "### Answer 8: There are 13 people who have higher than normal platelets count"
   ]
  },
  {
   "cell_type": "code",
   "execution_count": 35,
   "id": "44cd0a3e",
   "metadata": {},
   "outputs": [],
   "source": [
    "## Question 9: What is the average level of creatinine phosphokinase in people who survived and those who did not?"
   ]
  },
  {
   "cell_type": "code",
   "execution_count": 36,
   "id": "ab5b29b9",
   "metadata": {},
   "outputs": [
    {
     "name": "stdout",
     "output_type": "stream",
     "text": [
      "366.6588628762542 215.18060200668896\n"
     ]
    }
   ],
   "source": [
    "total_people = data.shape[0]\n",
    "\n",
    "survived_cp = data[data[\"DEATH_EVENT\"] == 0][\"creatinine_phosphokinase\"]\n",
    "average_survived_cp = (survived_cp.sum()) / total_people\n",
    "\n",
    "not_survived_cp = data[data[\"DEATH_EVENT\"] == 1][\"creatinine_phosphokinase\"]\n",
    "average_not_survived_cp = (not_survived_cp.sum()) / total_people\n",
    "\n",
    "print(average_survived_cp, average_not_survived_cp)"
   ]
  },
  {
   "cell_type": "code",
   "execution_count": 37,
   "id": "46c5a0e7",
   "metadata": {},
   "outputs": [
    {
     "data": {
      "text/plain": [
       "<AxesSubplot: xlabel='creatinine_phosphokinase'>"
      ]
     },
     "execution_count": 37,
     "metadata": {},
     "output_type": "execute_result"
    },
    {
     "data": {
      "image/png": "[encoded data removed]",
      "text/plain": [
       "<Figure size 640x480 with 1 Axes>"
      ]
     },
     "metadata": {},
     "output_type": "display_data"
    }
   ],
   "source": [
    "sns.boxplot(x = survived_cp)"
   ]
  },
  {
   "cell_type": "code",
   "execution_count": 38,
   "id": "c35647b6",
   "metadata": {},
   "outputs": [
    {
     "data": {
      "text/plain": [
       "<AxesSubplot: xlabel='creatinine_phosphokinase'>"
      ]
     },
     "execution_count": 38,
     "metadata": {},
     "output_type": "execute_result"
    },
    {
     "data": {
      "image/png": "[encoded data removed]",
      "text/plain": [
       "<Figure size 640x480 with 1 Axes>"
      ]
     },
     "metadata": {},
     "output_type": "display_data"
    }
   ],
   "source": [
    "sns.boxplot(x = not_survived_cp)"
   ]
  },
  {
   "cell_type": "code",
   "execution_count": 39,
   "id": "93d08dcf",
   "metadata": {},
   "outputs": [],
   "source": [
    "### Answer 9: The average level of creatinine phosphokinase who survived is 366.66 and those who did not is 215.18"
   ]
  },
  {
   "cell_type": "code",
   "execution_count": 40,
   "id": "079ee2d3",
   "metadata": {},
   "outputs": [],
   "source": [
    "## Question 10: What is the average of serum sodium?"
   ]
  },
  {
   "cell_type": "code",
   "execution_count": 41,
   "id": "8924e739",
   "metadata": {},
   "outputs": [
    {
     "data": {
      "text/plain": [
       "136.62541806020067"
      ]
     },
     "execution_count": 41,
     "metadata": {},
     "output_type": "execute_result"
    }
   ],
   "source": [
    "total_serum_sodium = data[\"serum_sodium\"].mean()\n",
    "total_serum_sodium"
   ]
  },
  {
   "cell_type": "code",
   "execution_count": 42,
   "id": "e7f23ed2",
   "metadata": {},
   "outputs": [
    {
     "data": {
      "text/plain": [
       "<AxesSubplot: xlabel='serum_sodium'>"
      ]
     },
     "execution_count": 42,
     "metadata": {},
     "output_type": "execute_result"
    },
    {
     "data": {
      "image/png": "[encoded data removed]",
      "text/plain": [
       "<Figure size 640x480 with 1 Axes>"
      ]
     },
     "metadata": {},
     "output_type": "display_data"
    }
   ],
   "source": [
    "sns.boxplot(x = data[\"serum_sodium\"])"
   ]
  },
  {
   "cell_type": "code",
   "execution_count": 43,
   "id": "4845f5d6",
   "metadata": {},
   "outputs": [],
   "source": [
    "### Answer 10: The average serum sodium is 136."
   ]
  },
  {
   "cell_type": "code",
   "execution_count": 44,
   "id": "4ae06351",
   "metadata": {},
   "outputs": [],
   "source": [
    "## Machine Learning (Logistic Regression)"
   ]
  },
  {
   "cell_type": "code",
   "execution_count": 49,
   "id": "690ce33d",
   "metadata": {},
   "outputs": [],
   "source": [
    "# Variables\n",
    "\n",
    "X = data[[\"age\", \"sex\", \"ejection_fraction\", \"serum_creatinine\"]]\n",
    "y = data[\"DEATH_EVENT\"]"
   ]
  },
  {
   "cell_type": "code",
   "execution_count": 50,
   "id": "7721e32c",
   "metadata": {},
   "outputs": [],
   "source": [
    "X_train, X_test, y_train, y_test = train_test_split(X, y, test_size = 0.25)"
   ]
  },
  {
   "cell_type": "code",
   "execution_count": 51,
   "id": "8bb4e597",
   "metadata": {},
   "outputs": [
    {
     "data": {
      "text/html": [
       "<style>#sk-container-id-2 {color: black;background-color: white;}#sk-container-id-2 pre{padding: 0;}#sk-container-id-2 div.sk-toggleable {background-color: white;}#sk-container-id-2 label.sk-toggleable__label {cursor: pointer;display: block;width: 100%;margin-bottom: 0;padding: 0.3em;box-sizing: border-box;text-align: center;}#sk-container-id-2 label.sk-toggleable__label-arrow:before {content: \"▸\";float: left;margin-right: 0.25em;color: #696969;}#sk-container-id-2 label.sk-toggleable__label-arrow:hover:before {color: black;}#sk-container-id-2 div.sk-estimator:hover label.sk-toggleable__label-arrow:before {color: black;}#sk-container-id-2 div.sk-toggleable__content {max-height: 0;max-width: 0;overflow: hidden;text-align: left;background-color: #f0f8ff;}#sk-container-id-2 div.sk-toggleable__content pre {margin: 0.2em;color: black;border-radius: 0.25em;background-color: #f0f8ff;}#sk-container-id-2 input.sk-toggleable__control:checked~div.sk-toggleable__content {max-height: 200px;max-width: 100%;overflow: auto;}#sk-container-id-2 input.sk-toggleable__control:checked~label.sk-toggleable__label-arrow:before {content: \"▾\";}#sk-container-id-2 div.sk-estimator input.sk-toggleable__control:checked~label.sk-toggleable__label {background-color: #d4ebff;}#sk-container-id-2 div.sk-label input.sk-toggleable__control:checked~label.sk-toggleable__label {background-color: #d4ebff;}#sk-container-id-2 input.sk-hidden--visually {border: 0;clip: rect(1px 1px 1px 1px);clip: rect(1px, 1px, 1px, 1px);height: 1px;margin: -1px;overflow: hidden;padding: 0;position: absolute;width: 1px;}#sk-container-id-2 div.sk-estimator {font-family: monospace;background-color: #f0f8ff;border: 1px dotted black;border-radius: 0.25em;box-sizing: border-box;margin-bottom: 0.5em;}#sk-container-id-2 div.sk-estimator:hover {background-color: #d4ebff;}#sk-container-id-2 div.sk-parallel-item::after {content: \"\";width: 100%;border-bottom: 1px solid gray;flex-grow: 1;}#sk-container-id-2 div.sk-label:hover label.sk-toggleable__label {background-color: #d4ebff;}#sk-container-id-2 div.sk-serial::before {content: \"\";position: absolute;border-left: 1px solid gray;box-sizing: border-box;top: 0;bottom: 0;left: 50%;z-index: 0;}#sk-container-id-2 div.sk-serial {display: flex;flex-direction: column;align-items: center;background-color: white;padding-right: 0.2em;padding-left: 0.2em;position: relative;}#sk-container-id-2 div.sk-item {position: relative;z-index: 1;}#sk-container-id-2 div.sk-parallel {display: flex;align-items: stretch;justify-content: center;background-color: white;position: relative;}#sk-container-id-2 div.sk-item::before, #sk-container-id-2 div.sk-parallel-item::before {content: \"\";position: absolute;border-left: 1px solid gray;box-sizing: border-box;top: 0;bottom: 0;left: 50%;z-index: -1;}#sk-container-id-2 div.sk-parallel-item {display: flex;flex-direction: column;z-index: 1;position: relative;background-color: white;}#sk-container-id-2 div.sk-parallel-item:first-child::after {align-self: flex-end;width: 50%;}#sk-container-id-2 div.sk-parallel-item:last-child::after {align-self: flex-start;width: 50%;}#sk-container-id-2 div.sk-parallel-item:only-child::after {width: 0;}#sk-container-id-2 div.sk-dashed-wrapped {border: 1px dashed gray;margin: 0 0.4em 0.5em 0.4em;box-sizing: border-box;padding-bottom: 0.4em;background-color: white;}#sk-container-id-2 div.sk-label label {font-family: monospace;font-weight: bold;display: inline-block;line-height: 1.2em;}#sk-container-id-2 div.sk-label-container {text-align: center;}#sk-container-id-2 div.sk-container {/* jupyter's `normalize.less` sets `[hidden] { display: none; }` but bootstrap.min.css set `[hidden] { display: none !important; }` so we also need the `!important` here to be able to override the default hidden behavior on the sphinx rendered scikit-learn.org. See: https://github.com/scikit-learn/scikit-learn/issues/21755 */display: inline-block !important;position: relative;}#sk-container-id-2 div.sk-text-repr-fallback {display: none;}</style><div id=\"sk-container-id-2\" class=\"sk-top-container\"><div class=\"sk-text-repr-fallback\"><pre>LogisticRegression()</pre><b>In a Jupyter environment, please rerun this cell to show the HTML representation or trust the notebook. <br />On GitHub, the HTML representation is unable to render, please try loading this page with nbviewer.org.</b></div><div class=\"sk-container\" hidden><div class=\"sk-item\"><div class=\"sk-estimator sk-toggleable\"><input class=\"sk-toggleable__control sk-hidden--visually\" id=\"sk-estimator-id-2\" type=\"checkbox\" checked><label for=\"sk-estimator-id-2\" class=\"sk-toggleable__label sk-toggleable__label-arrow\">LogisticRegression</label><div class=\"sk-toggleable__content\"><pre>LogisticRegression()</pre></div></div></div></div></div>"
      ],
      "text/plain": [
       "LogisticRegression()"
      ]
     },
     "execution_count": 51,
     "metadata": {},
     "output_type": "execute_result"
    }
   ],
   "source": [
    "logistic_regression = LogisticRegression()\n",
    "logistic_regression.fit(X_train, y_train) "
   ]
  },
  {
   "cell_type": "code",
   "execution_count": 52,
   "id": "a67860f0",
   "metadata": {},
   "outputs": [
    {
     "name": "stdout",
     "output_type": "stream",
     "text": [
      "              precision    recall  f1-score   support\n",
      "\n",
      "           0       0.88      0.80      0.83        54\n",
      "           1       0.58      0.71      0.64        21\n",
      "\n",
      "    accuracy                           0.77        75\n",
      "   macro avg       0.73      0.76      0.74        75\n",
      "weighted avg       0.79      0.77      0.78        75\n",
      "\n"
     ]
    }
   ],
   "source": [
    "predictions = logistic_regression.predict(X_test)\n",
    "\n",
    "print(classification_report(y_test, predictions))"
   ]
  },
  {
   "cell_type": "code",
   "execution_count": null,
   "id": "542da521",
   "metadata": {},
   "outputs": [],
   "source": []
  }
 ],
 "metadata": {
  "kernelspec": {
   "display_name": "Python 3 (ipykernel)",
   "language": "python",
   "name": "python3"
  },
  "language_info": {
   "codemirror_mode": {
    "name": "ipython",
    "version": 3
   },
   "file_extension": ".py",
   "mimetype": "text/x-python",
   "name": "python",
   "nbconvert_exporter": "python",
   "pygments_lexer": "ipython3",
   "version": "3.10.7"
  },
  "vscode": {
   "interpreter": {
    "hash": "e1a1e726527094bcd9ab6004f9869c99ff7b44ef5acf3aca01ec499374ca7e79"
   }
  }
 },
 "nbformat": 4,
 "nbformat_minor": 5
}
